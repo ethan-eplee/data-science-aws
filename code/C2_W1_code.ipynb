{
 "cells": [
  {
   "cell_type": "markdown",
   "metadata": {},
   "source": [
    "# Feature transformation with Amazon SageMaker processing job and Feature Store\n",
    "\n",
    "### Introduction\n",
    "\n",
    "In this lab you will start with the raw [Women's Clothing Reviews](https://www.kaggle.com/nicapotato/womens-ecommerce-clothing-reviews) dataset and prepare it to train a BERT-based natural language processing (NLP) model. The model will be used to classify customer reviews into positive (1), neutral (0) and negative (-1) sentiment.\n",
    "\n",
    "You will convert the original review text into machine-readable features used by BERT. To perform the required feature transformation you will configure an Amazon SageMaker processing job, which will be running a custom Python script.\n",
    "\n",
    "### Table of Contents\n",
    "\n",
    "- [1. Configure the SageMaker Feature Store](#c2w1-1.)\n",
    "  - [1.1. Configure dataset](#c2w1-1.1.)\n",
    "  - [1.2. Configure the SageMaker feature store](#c2w1-1.2.)\n",
    "    - [Exercise 1](#c2w1-ex-1)\n",
    "- [2. Transform the dataset](#c2w1-2.)\n",
    "    - [Exercise 2](#c2w1-ex-2)\n",
    "    - [Exercise 3](#c2w1-ex-3)\n",
    "- [3. Query the Feature Store](#c2w1-3.)\n",
    "  - [3.1. Export training, validation, and test datasets from the Feature Store](#c2w1-3.1.)\n",
    "    - [Exercise 4](#c2w1-ex-4)\n",
    "  - [3.2. Export TSV from Feature Store](#c2w1-3.2.)\n",
    "  - [3.3. Check that the dataset in the Feature Store is balanced by sentiment](#c2w1-3.3.)\n",
    "    - [Exercise 5](#c2w1-ex-5)\n",
    "    - [Exercise 6](#c2w1-ex-6)\n",
    "    - [Exercise 7](#c2w1-ex-7)\n",
    "\n"
   ]
  },
  {
   "cell_type": "code",
   "execution_count": 1,
   "metadata": {},
   "outputs": [
    {
     "name": "stdout",
     "output_type": "stream",
     "text": [
      "Keyring is skipped due to an exception: 'keyring.backends'\n",
      "\u001b[33mWARNING: Running pip as the 'root' user can result in broken permissions and conflicting behaviour with the system package manager. It is recommended to use a virtual environment instead: https://pip.pypa.io/warnings/venv\u001b[0m\u001b[33m\n",
      "\u001b[0mCollecting package metadata (current_repodata.json): ...working... done\n",
      "Solving environment: ...working... done\n",
      "\n",
      "# All requested packages already installed.\n",
      "\n",
      "Retrieving notices: ...working... done\n",
      "Keyring is skipped due to an exception: 'keyring.backends'\n",
      "\u001b[33mWARNING: Running pip as the 'root' user can result in broken permissions and conflicting behaviour with the system package manager. It is recommended to use a virtual environment instead: https://pip.pypa.io/warnings/venv\u001b[0m\u001b[33m\n",
      "\u001b[0m"
     ]
    }
   ],
   "source": [
    "# please ignore warning messages during the installation\n",
    "!pip install --disable-pip-version-check -q sagemaker==2.35.0\n",
    "!conda install -q -y pytorch==1.6.0 -c pytorch\n",
    "!pip install --disable-pip-version-check -q transformers==3.5.1"
   ]
  },
  {
   "cell_type": "code",
   "execution_count": 2,
   "metadata": {},
   "outputs": [],
   "source": [
    "import boto3\n",
    "import sagemaker\n",
    "import botocore\n",
    "\n",
    "config = botocore.config.Config(user_agent_extra='dlai-pds/c2/w1')\n",
    "\n",
    "# low-level service client of the boto3 session\n",
    "sm = boto3.client(service_name='sagemaker', \n",
    "                  config=config)\n",
    "\n",
    "featurestore_runtime = boto3.client(service_name='sagemaker-featurestore-runtime', \n",
    "                                    config=config)\n",
    "\n",
    "sess = sagemaker.Session(sagemaker_client=sm,\n",
    "                         sagemaker_featurestore_runtime_client=featurestore_runtime)\n",
    "\n",
    "bucket = sess.default_bucket()\n",
    "role = sagemaker.get_execution_role()\n",
    "region = sess.boto_region_name"
   ]
  },
  {
   "cell_type": "markdown",
   "metadata": {},
   "source": [
    "<a name='c2w1-1.'></a>\n",
    "# 1. Configure the SageMaker Feature Store"
   ]
  },
  {
   "cell_type": "markdown",
   "metadata": {},
   "source": [
    "<a name='c2w1-1.1.'></a>\n",
    "### 1.1. Configure dataset\n",
    "The raw dataset is in the public S3 bucket. Let's start by specifying the S3 location of it:"
   ]
  },
  {
   "cell_type": "code",
   "execution_count": 3,
   "metadata": {},
   "outputs": [
    {
     "name": "stdout",
     "output_type": "stream",
     "text": [
      "s3://dlai-practical-data-science/data/raw/\n"
     ]
    }
   ],
   "source": [
    "raw_input_data_s3_uri = 's3://dlai-practical-data-science/data/raw/'\n",
    "print(raw_input_data_s3_uri)"
   ]
  },
  {
   "cell_type": "markdown",
   "metadata": {},
   "source": [
    "List the files in the S3 bucket (in this case it will be just one file):"
   ]
  },
  {
   "cell_type": "code",
   "execution_count": 4,
   "metadata": {},
   "outputs": [
    {
     "name": "stdout",
     "output_type": "stream",
     "text": [
      "2021-04-30 02:21:06    8457214 womens_clothing_ecommerce_reviews.csv\n"
     ]
    }
   ],
   "source": [
    "!aws s3 ls $raw_input_data_s3_uri"
   ]
  },
  {
   "cell_type": "markdown",
   "metadata": {},
   "source": [
    "<a name='c2w1-1.2.'></a>\n",
    "### 1.2. Configure the SageMaker feature store\n",
    "\n",
    "As the result of the transformation, in addition to generating files in S3 bucket, you will also save the transformed data in the **Amazon SageMaker Feature Store** to be used by others in your organization, for example. \n",
    "\n",
    "To configure a Feature Store you need to setup a **Feature Group**. This is the main resource containing all of the metadata related to the data stored in the Feature Store. A Feature Group should contain a list of **Feature Definitions**. A Feature Definition consists of a name and the data type. The Feature Group also contains an online store configuration and an offline store configuration controlling where the data is stored. Enabling the online store allows quick access to the latest value for a record via the [GetRecord API](https://docs.aws.amazon.com/sagemaker/latest/APIReference/API_feature_store_GetRecord.html). The offline store allows storage of the data in your S3 bucket. You will be using the offline store in this lab.\n",
    "\n",
    "Let's setup the Feature Group name and the Feature Store offline prefix in S3 bucket (you will use those later in the lab):"
   ]
  },
  {
   "cell_type": "code",
   "execution_count": 5,
   "metadata": {},
   "outputs": [
    {
     "name": "stdout",
     "output_type": "stream",
     "text": [
      "Feature group name: reviews-feature-group-1670918430\n",
      "Feature store offline prefix in S3: reviews-feature-store-1670918430\n"
     ]
    }
   ],
   "source": [
    "import time\n",
    "timestamp = int(time.time())\n",
    "\n",
    "feature_group_name = 'reviews-feature-group-' + str(timestamp)\n",
    "feature_store_offline_prefix = 'reviews-feature-store-' + str(timestamp)\n",
    "\n",
    "print('Feature group name: {}'.format(feature_group_name))\n",
    "print('Feature store offline prefix in S3: {}'.format(feature_store_offline_prefix))"
   ]
  },
  {
   "cell_type": "markdown",
   "metadata": {},
   "source": [
    "Taking two features from the original raw dataset (`Review Text` and `Rating`), you will transform it preparing to be used for the model training and then to be saved in the Feature Store. Here you will define the related features to be stored as a list of `FeatureDefinition`."
   ]
  },
  {
   "cell_type": "code",
   "execution_count": 6,
   "metadata": {},
   "outputs": [],
   "source": [
    "from sagemaker.feature_store.feature_definition import (\n",
    "    FeatureDefinition,\n",
    "    FeatureTypeEnum,\n",
    ")\n",
    "\n",
    "feature_definitions= [\n",
    "    # unique ID of the review\n",
    "    FeatureDefinition(feature_name='review_id', feature_type=FeatureTypeEnum.STRING), \n",
    "    # ingestion timestamp\n",
    "    FeatureDefinition(feature_name='date', feature_type=FeatureTypeEnum.STRING),\n",
    "    # sentiment: -1 (negative), 0 (neutral) or 1 (positive). It will be found the Rating values (1, 2, 3, 4, 5)\n",
    "    FeatureDefinition(feature_name='sentiment', feature_type=FeatureTypeEnum.STRING), \n",
    "    # label ID of the target class (sentiment)\n",
    "    FeatureDefinition(feature_name='label_id', feature_type=FeatureTypeEnum.STRING),\n",
    "    # reviews encoded with the BERT tokenizer\n",
    "    FeatureDefinition(feature_name='input_ids', feature_type=FeatureTypeEnum.STRING),\n",
    "    # original Review Text\n",
    "    FeatureDefinition(feature_name='review_body', feature_type=FeatureTypeEnum.STRING),\n",
    "    # train/validation/test label\n",
    "    FeatureDefinition(feature_name='split_type', feature_type=FeatureTypeEnum.STRING)\n",
    "]"
   ]
  },
  {
   "cell_type": "markdown",
   "metadata": {},
   "source": [
    "<a name='c2w1-ex-1'></a>\n",
    "### Exercise 1\n",
    "\n",
    "Create the feature group using the feature definitions defined above.\n",
    "\n",
    "**Instructions:** Use the `FeatureGroup` function passing the defined above feature group name and the feature definitions.\n",
    "\n",
    "```python\n",
    "feature_group = FeatureGroup(\n",
    "    name=..., # Feature Group name\n",
    "    feature_definitions=..., # a list of Feature Definitions\n",
    "    sagemaker_session=sess # SageMaker session\n",
    ")\n",
    "```"
   ]
  },
  {
   "cell_type": "code",
   "execution_count": 7,
   "metadata": {},
   "outputs": [
    {
     "name": "stdout",
     "output_type": "stream",
     "text": [
      "FeatureGroup(name='reviews-feature-group-1670918430', sagemaker_session=<sagemaker.session.Session object at 0x7fa68f519790>, feature_definitions=[FeatureDefinition(feature_name='review_id', feature_type=<FeatureTypeEnum.STRING: 'String'>), FeatureDefinition(feature_name='date', feature_type=<FeatureTypeEnum.STRING: 'String'>), FeatureDefinition(feature_name='sentiment', feature_type=<FeatureTypeEnum.STRING: 'String'>), FeatureDefinition(feature_name='label_id', feature_type=<FeatureTypeEnum.STRING: 'String'>), FeatureDefinition(feature_name='input_ids', feature_type=<FeatureTypeEnum.STRING: 'String'>), FeatureDefinition(feature_name='review_body', feature_type=<FeatureTypeEnum.STRING: 'String'>), FeatureDefinition(feature_name='split_type', feature_type=<FeatureTypeEnum.STRING: 'String'>)])\n"
     ]
    }
   ],
   "source": [
    "from sagemaker.feature_store.feature_group import FeatureGroup\n",
    "\n",
    "feature_group = FeatureGroup(\n",
    "    ### BEGIN SOLUTION - DO NOT delete this comment for grading purposes\n",
    "    name=feature_group_name, # Replace None\n",
    "    feature_definitions=feature_definitions, # Replace None\n",
    "    ### END SOLUTION - DO NOT delete this comment for grading purposes\n",
    "    sagemaker_session=sess\n",
    ")\n",
    "\n",
    "print(feature_group)"
   ]
  },
  {
   "cell_type": "markdown",
   "metadata": {},
   "source": [
    "You will use the defined Feature Group later in this lab, the actual creation of the Feature Group will take place in the processing job. Now let's move into the setup of the processing job to transform the dataset."
   ]
  },
  {
   "cell_type": "markdown",
   "metadata": {},
   "source": [
    "<a name='c2w1-2.'></a>\n",
    "# 2. Transform the dataset\n",
    "\n",
    "You will configure a SageMaker processing job to run a custom Python script to balance and transform the raw data into a format used by BERT model.\n",
    "\n",
    "Set the transformation parameters including the instance type, instance count, and train/validation/test split percentages. For the purposes of this lab, you will use a relatively small instance type. Please refer to [this](https://aws.amazon.com/sagemaker/pricing/) link for additional instance types that may work for your use case outside of this lab.\n",
    "\n",
    "You can also choose whether you want to balance the dataset or not. In this case, you will balance the dataset to avoid class imbalance in the target variable, `sentiment`. \n",
    "\n",
    "Another important parameter of the model is the `max_seq_length`, which specifies the maximum length of the classified reviews for the RoBERTa model. If the sentence is shorter than the maximum length parameter, it will be padded. In another case, when the sentence is longer, it will be truncated from the right side.\n",
    "\n",
    "Since a smaller `max_seq_length` leads to faster training and lower resource utilization, you want to find the smallest power-of-2 that captures `100%` of our reviews.  For this dataset, the `100th` percentile is `115`.  However, it's best to stick with powers-of-2 when using BERT. So let's choose `128` as this is the smallest power-of-2 greater than `115`. You will see below how the shorter sentences will be padded to a maximum length.\n",
    "\n",
    "\n",
    "```\n",
    "mean        52.512374\n",
    "std         31.387048\n",
    "min          1.000000\n",
    "10%         10.000000\n",
    "20%         22.000000\n",
    "30%         32.000000\n",
    "40%         41.000000\n",
    "50%         51.000000\n",
    "60%         61.000000\n",
    "70%         73.000000\n",
    "80%         88.000000\n",
    "90%         97.000000\n",
    "100%       115.000000\n",
    "max        115.000000\n",
    "```\n",
    "\n",
    "![](images/distribution_num_words_per_review.png)\n"
   ]
  },
  {
   "cell_type": "code",
   "execution_count": 8,
   "metadata": {
    "scrolled": true
   },
   "outputs": [],
   "source": [
    "processing_instance_type='ml.c5.xlarge'\n",
    "processing_instance_count=1\n",
    "train_split_percentage=0.90\n",
    "validation_split_percentage=0.05\n",
    "test_split_percentage=0.05\n",
    "balance_dataset=True\n",
    "max_seq_length=128"
   ]
  },
  {
   "cell_type": "markdown",
   "metadata": {},
   "source": [
    "To balance and transform our data, you will use a scikit-learn-based processing job. This is essentially a generic Python processing job with scikit-learn pre-installed. You can specify the version of scikit-learn you wish to use. Also pass the SageMaker execution role, processing instance type and instance count."
   ]
  },
  {
   "cell_type": "code",
   "execution_count": 9,
   "metadata": {
    "scrolled": true
   },
   "outputs": [],
   "source": [
    "from sagemaker.sklearn.processing import SKLearnProcessor\n",
    "\n",
    "processor = SKLearnProcessor(\n",
    "    framework_version='0.23-1',\n",
    "    role=role,\n",
    "    instance_type=processing_instance_type,\n",
    "    instance_count=processing_instance_count,\n",
    "    env={'AWS_DEFAULT_REGION': region},                             \n",
    "    max_runtime_in_seconds=7200\n",
    ")"
   ]
  },
  {
   "cell_type": "markdown",
   "metadata": {},
   "source": [
    "The processing job will be running the Python code from the file `src/prepare_data.py`. In the following exercise you will review the contents of the file and familiarize yourself with main parts of it. "
   ]
  },
  {
   "cell_type": "markdown",
   "metadata": {},
   "source": [
    "<a name='c2w1-ex-2'></a>\n",
    "### Exercise 2\n",
    "\n",
    "1. Open the file [src/prepare_data.py](src/prepare_data.py). Go through the comments to understand its content.\n",
    "2. Find and review the `convert_to_bert_input_ids()` function, which contains the RoBERTa `tokenizer` configuration.\n",
    "3. Complete method `encode_plus` of the RoBERTa `tokenizer`. Pass the `max_seq_length` as a value for the argument `max_length`. It defines a pad to a maximum length specified.\n",
    "4. Save the file [src/prepare_data.py](src/prepare_data.py) (with the menu command File -> Save Python File)."
   ]
  },
  {
   "cell_type": "markdown",
   "metadata": {},
   "source": [
    "### _This cell will take approximately 1-2 minutes to run._"
   ]
  },
  {
   "cell_type": "code",
   "execution_count": 10,
   "metadata": {},
   "outputs": [
    {
     "name": "stdout",
     "output_type": "stream",
     "text": [
      "##################\n",
      "Updated correctly!\n",
      "##################\n"
     ]
    }
   ],
   "source": [
    "import sys, importlib\n",
    "sys.path.append('src/')\n",
    "\n",
    "# import the `prepare_data.py` module\n",
    "import prepare_data\n",
    "\n",
    "# reload the module if it has been previously loaded \n",
    "if 'prepare_data' in sys.modules:\n",
    "    importlib.reload(prepare_data)\n",
    "\n",
    "input_ids = prepare_data.convert_to_bert_input_ids(\"this product is great!\", max_seq_length)\n",
    "    \n",
    "updated_correctly = False\n",
    "\n",
    "if len(input_ids) != max_seq_length:\n",
    "    print('#######################################################################################################')\n",
    "    print('Please check that the function \\'convert_to_bert_input_ids\\' in the file src/prepare_data.py is complete.')\n",
    "    print('#######################################################################################################')\n",
    "    raise Exception('Please check that the function \\'convert_to_bert_input_ids\\' in the file src/prepare_data.py is complete.')\n",
    "else:\n",
    "    print('##################')\n",
    "    print('Updated correctly!')\n",
    "    print('##################')\n",
    "\n",
    "    updated_correctly = True"
   ]
  },
  {
   "cell_type": "markdown",
   "metadata": {},
   "source": [
    "Review the results of tokenization for the given example (*\\\"this product is great!\\\"*):"
   ]
  },
  {
   "cell_type": "code",
   "execution_count": 11,
   "metadata": {},
   "outputs": [
    {
     "name": "stdout",
     "output_type": "stream",
     "text": [
      "[0, 9226, 1152, 16, 372, 328, 2, 1, 1, 1, 1, 1, 1, 1, 1, 1, 1, 1, 1, 1, 1, 1, 1, 1, 1, 1, 1, 1, 1, 1, 1, 1, 1, 1, 1, 1, 1, 1, 1, 1, 1, 1, 1, 1, 1, 1, 1, 1, 1, 1, 1, 1, 1, 1, 1, 1, 1, 1, 1, 1, 1, 1, 1, 1, 1, 1, 1, 1, 1, 1, 1, 1, 1, 1, 1, 1, 1, 1, 1, 1, 1, 1, 1, 1, 1, 1, 1, 1, 1, 1, 1, 1, 1, 1, 1, 1, 1, 1, 1, 1, 1, 1, 1, 1, 1, 1, 1, 1, 1, 1, 1, 1, 1, 1, 1, 1, 1, 1, 1, 1, 1, 1, 1, 1, 1, 1, 1, 1]\n",
      "Length of the sequence: 128\n"
     ]
    }
   ],
   "source": [
    "input_ids = prepare_data.convert_to_bert_input_ids(\"this product is great!\", max_seq_length)\n",
    "\n",
    "print(input_ids)\n",
    "print('Length of the sequence: {}'.format(len(input_ids)))"
   ]
  },
  {
   "cell_type": "markdown",
   "metadata": {},
   "source": [
    "Launch the processing job with the custom script passing defined above parameters."
   ]
  },
  {
   "cell_type": "code",
   "execution_count": 12,
   "metadata": {},
   "outputs": [
    {
     "name": "stdout",
     "output_type": "stream",
     "text": [
      "\n",
      "Job Name:  sagemaker-scikit-learn-2022-12-13-08-01-48-141\n",
      "Inputs:  [{'InputName': 'input-1', 'AppManaged': False, 'S3Input': {'S3Uri': 's3://dlai-practical-data-science/data/raw/', 'LocalPath': '/opt/ml/processing/input/data/', 'S3DataType': 'S3Prefix', 'S3InputMode': 'File', 'S3DataDistributionType': 'ShardedByS3Key', 'S3CompressionType': 'None'}}, {'InputName': 'code', 'AppManaged': False, 'S3Input': {'S3Uri': 's3://sagemaker-us-east-1-672024296136/sagemaker-scikit-learn-2022-12-13-08-01-48-141/input/code/prepare_data.py', 'LocalPath': '/opt/ml/processing/input/code', 'S3DataType': 'S3Prefix', 'S3InputMode': 'File', 'S3DataDistributionType': 'FullyReplicated', 'S3CompressionType': 'None'}}]\n",
      "Outputs:  [{'OutputName': 'sentiment-train', 'AppManaged': False, 'S3Output': {'S3Uri': 's3://sagemaker-us-east-1-672024296136/sagemaker-scikit-learn-2022-12-13-08-01-48-141/output/sentiment-train', 'LocalPath': '/opt/ml/processing/output/sentiment/train', 'S3UploadMode': 'EndOfJob'}}, {'OutputName': 'sentiment-validation', 'AppManaged': False, 'S3Output': {'S3Uri': 's3://sagemaker-us-east-1-672024296136/sagemaker-scikit-learn-2022-12-13-08-01-48-141/output/sentiment-validation', 'LocalPath': '/opt/ml/processing/output/sentiment/validation', 'S3UploadMode': 'EndOfJob'}}, {'OutputName': 'sentiment-test', 'AppManaged': False, 'S3Output': {'S3Uri': 's3://sagemaker-us-east-1-672024296136/sagemaker-scikit-learn-2022-12-13-08-01-48-141/output/sentiment-test', 'LocalPath': '/opt/ml/processing/output/sentiment/test', 'S3UploadMode': 'EndOfJob'}}]\n"
     ]
    }
   ],
   "source": [
    "from sagemaker.processing import ProcessingInput, ProcessingOutput\n",
    "\n",
    "if (updated_correctly):\n",
    "\n",
    "    processor.run(code='src/prepare_data.py',\n",
    "              inputs=[\n",
    "                    ProcessingInput(source=raw_input_data_s3_uri,\n",
    "                                    destination='/opt/ml/processing/input/data/',\n",
    "                                    s3_data_distribution_type='ShardedByS3Key')\n",
    "              ],\n",
    "              outputs=[\n",
    "                    ProcessingOutput(output_name='sentiment-train',\n",
    "                                     source='/opt/ml/processing/output/sentiment/train',\n",
    "                                     s3_upload_mode='EndOfJob'),\n",
    "                    ProcessingOutput(output_name='sentiment-validation',\n",
    "                                     source='/opt/ml/processing/output/sentiment/validation',\n",
    "                                     s3_upload_mode='EndOfJob'),\n",
    "                    ProcessingOutput(output_name='sentiment-test',\n",
    "                                     source='/opt/ml/processing/output/sentiment/test',\n",
    "                                     s3_upload_mode='EndOfJob')\n",
    "              ],\n",
    "              arguments=['--train-split-percentage', str(train_split_percentage),\n",
    "                         '--validation-split-percentage', str(validation_split_percentage),\n",
    "                         '--test-split-percentage', str(test_split_percentage),\n",
    "                         '--balance-dataset', str(balance_dataset),\n",
    "                         '--max-seq-length', str(max_seq_length),                         \n",
    "                         '--feature-store-offline-prefix', str(feature_store_offline_prefix),\n",
    "                         '--feature-group-name', str(feature_group_name)                         \n",
    "              ],\n",
    "              logs=True,\n",
    "              wait=False)\n",
    "\n",
    "else:\n",
    "    print('#######################################')\n",
    "    print('Please update the code correctly above.')\n",
    "    print('#######################################')    "
   ]
  },
  {
   "cell_type": "markdown",
   "metadata": {},
   "source": [
    "You can see the information about the processing jobs using the `describe` function. The result is in dictionary format. Let's pull the processing job name:"
   ]
  },
  {
   "cell_type": "code",
   "execution_count": 13,
   "metadata": {
    "scrolled": true
   },
   "outputs": [
    {
     "name": "stdout",
     "output_type": "stream",
     "text": [
      "Processing job name: sagemaker-scikit-learn-2022-12-13-08-01-48-141\n"
     ]
    }
   ],
   "source": [
    "scikit_processing_job_name = processor.jobs[-1].describe()['ProcessingJobName']\n",
    "\n",
    "print('Processing job name: {}'.format(scikit_processing_job_name))"
   ]
  },
  {
   "cell_type": "markdown",
   "metadata": {},
   "source": [
    "<a name='c2w1-ex-3'></a>\n",
    "### Exercise 3\n",
    "\n",
    "Pull the processing job status from the processing job description.\n",
    "\n",
    "**Instructions**: Print the keys of the processing job description dictionary, choose the one related to the status of the processing job and print the value of it."
   ]
  },
  {
   "cell_type": "code",
   "execution_count": 14,
   "metadata": {
    "scrolled": true
   },
   "outputs": [
    {
     "name": "stdout",
     "output_type": "stream",
     "text": [
      "dict_keys(['ProcessingInputs', 'ProcessingOutputConfig', 'ProcessingJobName', 'ProcessingResources', 'StoppingCondition', 'AppSpecification', 'Environment', 'RoleArn', 'ProcessingJobArn', 'ProcessingJobStatus', 'LastModifiedTime', 'CreationTime', 'ResponseMetadata'])\n"
     ]
    }
   ],
   "source": [
    "print(processor.jobs[-1].describe().keys())"
   ]
  },
  {
   "cell_type": "code",
   "execution_count": 15,
   "metadata": {
    "scrolled": true
   },
   "outputs": [
    {
     "name": "stdout",
     "output_type": "stream",
     "text": [
      "Processing job status: InProgress\n"
     ]
    }
   ],
   "source": [
    "### BEGIN SOLUTION - DO NOT delete this comment for grading purposes\n",
    "scikit_processing_job_status = processor.jobs[-1].describe()['ProcessingJobStatus'] # Replace None\n",
    "### END SOLUTION - DO NOT delete this comment for grading purposes\n",
    "print('Processing job status: {}'.format(scikit_processing_job_status))"
   ]
  },
  {
   "cell_type": "markdown",
   "metadata": {},
   "source": [
    "Review the created processing job in the AWS console.\n",
    "\n",
    "**Instructions**: \n",
    "- open the link\n",
    "- notice that you are in the section `Amazon SageMaker` -> `Processing jobs`\n",
    "- check the name of the processing job, its status and other available information"
   ]
  },
  {
   "cell_type": "code",
   "execution_count": 16,
   "metadata": {
    "scrolled": true
   },
   "outputs": [
    {
     "data": {
      "text/html": [
       "<b>Review <a target=\"blank\" href=\"https://console.aws.amazon.com/sagemaker/home?region=us-east-1#/processing-jobs/sagemaker-scikit-learn-2022-12-13-08-01-48-141\">processing job</a></b>"
      ],
      "text/plain": [
       "<IPython.core.display.HTML object>"
      ]
     },
     "metadata": {},
     "output_type": "display_data"
    }
   ],
   "source": [
    "from IPython.core.display import display, HTML\n",
    "\n",
    "display(HTML('<b>Review <a target=\"blank\" href=\"https://console.aws.amazon.com/sagemaker/home?region={}#/processing-jobs/{}\">processing job</a></b>'.format(region, scikit_processing_job_name)))"
   ]
  },
  {
   "cell_type": "markdown",
   "metadata": {},
   "source": [
    "Wait for about 5 minutes to review the CloudWatch Logs. You may open the file [src/prepare_data.py](src/prepare_data.py) again and examine the outputs of the code in the CloudWatch logs."
   ]
  },
  {
   "cell_type": "code",
   "execution_count": 17,
   "metadata": {
    "scrolled": true
   },
   "outputs": [
    {
     "data": {
      "text/html": [
       "<b>Review <a target=\"blank\" href=\"https://console.aws.amazon.com/cloudwatch/home?region=us-east-1#logStream:group=/aws/sagemaker/ProcessingJobs;prefix=sagemaker-scikit-learn-2022-12-13-08-01-48-141;streamFilter=typeLogStreamPrefix\">CloudWatch logs</a> after about 5 minutes</b>"
      ],
      "text/plain": [
       "<IPython.core.display.HTML object>"
      ]
     },
     "metadata": {},
     "output_type": "display_data"
    }
   ],
   "source": [
    "from IPython.core.display import display, HTML\n",
    "\n",
    "display(HTML('<b>Review <a target=\"blank\" href=\"https://console.aws.amazon.com/cloudwatch/home?region={}#logStream:group=/aws/sagemaker/ProcessingJobs;prefix={};streamFilter=typeLogStreamPrefix\">CloudWatch logs</a> after about 5 minutes</b>'.format(region, scikit_processing_job_name)))"
   ]
  },
  {
   "cell_type": "markdown",
   "metadata": {},
   "source": [
    "After the completion of the processing job you can also review the output in the S3 bucket."
   ]
  },
  {
   "cell_type": "code",
   "execution_count": 18,
   "metadata": {
    "scrolled": true
   },
   "outputs": [
    {
     "data": {
      "text/html": [
       "<b>Review <a target=\"blank\" href=\"https://s3.console.aws.amazon.com/s3/buckets/sagemaker-us-east-1-672024296136/sagemaker-scikit-learn-2022-12-13-08-01-48-141/?region=us-east-1&tab=overview\">S3 output data</a> after the processing job has completed</b>"
      ],
      "text/plain": [
       "<IPython.core.display.HTML object>"
      ]
     },
     "metadata": {},
     "output_type": "display_data"
    }
   ],
   "source": [
    "from IPython.core.display import display, HTML\n",
    "\n",
    "display(HTML('<b>Review <a target=\"blank\" href=\"https://s3.console.aws.amazon.com/s3/buckets/{}/{}/?region={}&tab=overview\">S3 output data</a> after the processing job has completed</b>'.format(bucket, scikit_processing_job_name, region)))\n"
   ]
  },
  {
   "cell_type": "markdown",
   "metadata": {},
   "source": [
    "Wait for the processing job to complete.\n",
    "\n",
    "### _This cell will take approximately 15 minutes to run._"
   ]
  },
  {
   "cell_type": "code",
   "execution_count": 19,
   "metadata": {},
   "outputs": [
    {
     "name": "stdout",
     "output_type": "stream",
     "text": [
      "................................................................................................................................................!CPU times: user 688 ms, sys: 92.1 ms, total: 780 ms\n",
      "Wall time: 12min 9s\n"
     ]
    }
   ],
   "source": [
    "%%time\n",
    "\n",
    "running_processor = sagemaker.processing.ProcessingJob.from_processing_name(\n",
    "    processing_job_name=scikit_processing_job_name,\n",
    "    sagemaker_session=sess\n",
    ")\n",
    "\n",
    "running_processor.wait(logs=False)"
   ]
  },
  {
   "cell_type": "markdown",
   "metadata": {},
   "source": [
    "_Please wait until ^^ Processing Job ^^ completes above_"
   ]
  },
  {
   "cell_type": "markdown",
   "metadata": {},
   "source": [
    "Inspect the transformed and balanced data in the S3 bucket."
   ]
  },
  {
   "cell_type": "code",
   "execution_count": 20,
   "metadata": {},
   "outputs": [
    {
     "name": "stdout",
     "output_type": "stream",
     "text": [
      "s3://sagemaker-us-east-1-672024296136/sagemaker-scikit-learn-2022-12-13-08-01-48-141/output/sentiment-train\n",
      "s3://sagemaker-us-east-1-672024296136/sagemaker-scikit-learn-2022-12-13-08-01-48-141/output/sentiment-validation\n",
      "s3://sagemaker-us-east-1-672024296136/sagemaker-scikit-learn-2022-12-13-08-01-48-141/output/sentiment-test\n"
     ]
    }
   ],
   "source": [
    "processing_job_description = running_processor.describe()\n",
    "\n",
    "output_config = processing_job_description['ProcessingOutputConfig']\n",
    "for output in output_config['Outputs']:\n",
    "    if output['OutputName'] == 'sentiment-train':\n",
    "        processed_train_data_s3_uri = output['S3Output']['S3Uri']\n",
    "    if output['OutputName'] == 'sentiment-validation':\n",
    "        processed_validation_data_s3_uri = output['S3Output']['S3Uri']\n",
    "    if output['OutputName'] == 'sentiment-test':\n",
    "        processed_test_data_s3_uri = output['S3Output']['S3Uri']\n",
    "        \n",
    "print(processed_train_data_s3_uri)\n",
    "print(processed_validation_data_s3_uri)\n",
    "print(processed_test_data_s3_uri)"
   ]
  },
  {
   "cell_type": "code",
   "execution_count": 21,
   "metadata": {
    "scrolled": true
   },
   "outputs": [
    {
     "name": "stdout",
     "output_type": "stream",
     "text": [
      "2022-12-13 08:13:50    4897111 part-algo-1-womens_clothing_ecommerce_reviews.tsv\n"
     ]
    }
   ],
   "source": [
    "!aws s3 ls $processed_train_data_s3_uri/"
   ]
  },
  {
   "cell_type": "code",
   "execution_count": 22,
   "metadata": {
    "scrolled": true
   },
   "outputs": [
    {
     "name": "stdout",
     "output_type": "stream",
     "text": [
      "2022-12-13 08:13:51     281671 part-algo-1-womens_clothing_ecommerce_reviews.tsv\n"
     ]
    }
   ],
   "source": [
    "!aws s3 ls $processed_validation_data_s3_uri/"
   ]
  },
  {
   "cell_type": "code",
   "execution_count": 23,
   "metadata": {
    "scrolled": true
   },
   "outputs": [
    {
     "name": "stdout",
     "output_type": "stream",
     "text": [
      "2022-12-13 08:13:51     270515 part-algo-1-womens_clothing_ecommerce_reviews.tsv\n"
     ]
    }
   ],
   "source": [
    "!aws s3 ls $processed_test_data_s3_uri/"
   ]
  },
  {
   "cell_type": "markdown",
   "metadata": {},
   "source": [
    "Copy the data into the folder `balanced`."
   ]
  },
  {
   "cell_type": "code",
   "execution_count": 24,
   "metadata": {},
   "outputs": [
    {
     "name": "stdout",
     "output_type": "stream",
     "text": [
      "download: s3://sagemaker-us-east-1-672024296136/sagemaker-scikit-learn-2022-12-13-08-01-48-141/output/sentiment-train/part-algo-1-womens_clothing_ecommerce_reviews.tsv to balanced/sentiment-train/part-algo-1-womens_clothing_ecommerce_reviews.tsv\n",
      "download: s3://sagemaker-us-east-1-672024296136/sagemaker-scikit-learn-2022-12-13-08-01-48-141/output/sentiment-validation/part-algo-1-womens_clothing_ecommerce_reviews.tsv to balanced/sentiment-validation/part-algo-1-womens_clothing_ecommerce_reviews.tsv\n",
      "download: s3://sagemaker-us-east-1-672024296136/sagemaker-scikit-learn-2022-12-13-08-01-48-141/output/sentiment-test/part-algo-1-womens_clothing_ecommerce_reviews.tsv to balanced/sentiment-test/part-algo-1-womens_clothing_ecommerce_reviews.tsv\n"
     ]
    }
   ],
   "source": [
    "!aws s3 cp $processed_train_data_s3_uri/part-algo-1-womens_clothing_ecommerce_reviews.tsv ./balanced/sentiment-train/\n",
    "!aws s3 cp $processed_validation_data_s3_uri/part-algo-1-womens_clothing_ecommerce_reviews.tsv ./balanced/sentiment-validation/\n",
    "!aws s3 cp $processed_test_data_s3_uri/part-algo-1-womens_clothing_ecommerce_reviews.tsv ./balanced/sentiment-test/"
   ]
  },
  {
   "cell_type": "markdown",
   "metadata": {},
   "source": [
    "Review the training, validation and test data outputs:"
   ]
  },
  {
   "cell_type": "code",
   "execution_count": 25,
   "metadata": {},
   "outputs": [
    {
     "name": "stdout",
     "output_type": "stream",
     "text": [
      "review_id\tsentiment\tlabel_id\tinput_ids\treview_body\tdate\n",
      "7386\t0\t1\t[0, 100, 657, 5, 2496, 8, 5, 356, 9, 42, 23204, 4, 939, 770, 7, 657, 24, 8, 489, 24, 53, 115, 45, 142, 5, 40452, 6601, 21, 350, 203, 4, 5, 2496, 1326, 98, 3473, 8, 1365, 164, 1437, 53, 24, 21, 45, 1437, 24, 21, 32645, 219, 198, 5, 13977, 8, 124, 3730, 4, 13, 5135, 1437, 939, 524, 195, 2543, 204, 179, 8, 13950, 428, 8, 939, 2740, 5, 650, 111, 5, 21764, 58, 350, 251, 15, 162, 1437, 45, 22, 24336, 113, 251, 101, 103, 97, 24043, 11837, 42, 191, 4, 2, 1, 1, 1, 1, 1, 1, 1, 1, 1, 1, 1, 1, 1, 1, 1, 1, 1, 1, 1, 1, 1, 1, 1, 1, 1, 1, 1, 1, 1, 1, 1, 1]\t\"I love the style and the look of this sweater. i wanted to love it and keep it but could not because the itchiness was too much. the style looks so comfortable and easy going  but it was not  it was clingy around the waist and backside. for reference  i am 5ft 4in and 128b and i ordered the small - the sleeves were too long on me  not \"\"cool\"\" long like some other sweaters this season.\"\t2022-12-13T08:08:19Z\n",
      "18435\t-1\t0\t[0, 2264, 10, 2721, 1437, 3473, 1468, 8, 5, 8089, 32, 5835, 4, 939, 437, 98, 5779, 23, 5, 29747, 24203, 847, 4, 24, 10698, 101, 10, 1481, 1115, 13802, 10178, 1437, 190, 5, 3124, 6538, 33, 380, 10778, 14, 2025, 75, 41783, 4, 939, 524, 195, 108, 176, 1437, 11061, 29882, 1437, 8, 2740, 5, 37863, 29, 4716, 1459, 4, 2, 1, 1, 1, 1, 1, 1, 1, 1, 1, 1, 1, 1, 1, 1, 1, 1, 1, 1, 1, 1, 1, 1, 1, 1, 1, 1, 1, 1, 1, 1, 1, 1, 1, 1, 1, 1, 1, 1, 1, 1, 1, 1, 1, 1, 1, 1, 1, 1, 1, 1, 1, 1, 1, 1, 1, 1, 1, 1, 1, 1, 1, 1, 1, 1, 1, 1]\tWhat a beautiful  comfortable material and the colors are stunning. i'm so disappointed at the unflattering cut. it fits like a shapeless tent  even the arm holes have big gaps that aren't snug. i am 5'2  105lbs  and ordered the xxs petite.\t2022-12-13T08:08:19Z\n",
      "731\t-1\t0\t[0, 100, 21, 2283, 7, 192, 209, 10844, 187, 51, 376, 11, 4716, 1459, 10070, 8, 56, 10, 765, 11, 1090, 424, 734, 9574, 71, 12926, 73, 30921, 154, 484, 15029, 1437, 939, 303, 66, 14, 209, 32, 888, 45, 4716, 1459, 10844, 4, 2540, 36798, 14, 114, 47, 32, 12926, 209, 13, 5, 10941, 11, 1090, 424, 1437, 51, 32, 888, 971, 11, 734, 45, 706, 11, 25, 11, 5, 8194, 4, 97, 87, 5, 11, 1090, 424, 743, 1437, 51, 2564, 101, 6097, 6044, 7876, 21288, 4, 2, 1, 1, 1, 1, 1, 1, 1, 1, 1, 1, 1, 1, 1, 1, 1, 1, 1, 1, 1, 1, 1, 1, 1, 1, 1, 1, 1, 1, 1, 1, 1, 1, 1, 1, 1, 1, 1, 1]\tI was excited to see these jeans since they came in petite sizes and had a short inseam... unfortunately after ordering/returning several pairs  i found out that these are actually not petite jeans. please beware that if you are ordering these for the shorter inseam  they are actually 28 in... not 24 in as in the description. other than the inseam issues  they fit like typical paige denim.\t2022-12-13T08:08:19Z\n",
      "526\t1\t2\t[0, 100, 56, 57, 6062, 13, 10, 6966, 18605, 14, 3269, 10001, 127, 1928, 8792, 8, 42, 16, 24, 111, 939, 437, 11, 657, 328, 13, 5135, 1437, 939, 524, 195, 108, 401, 113, 12641, 12, 14515, 1437, 158, 12, 1092, 50, 475, 12, 462, 6122, 15, 5, 6880, 4, 959, 1437, 939, 437, 855, 753, 688, 5283, 98, 4356, 59, 21358, 8, 1197, 111, 98, 939, 439, 19, 5, 3023, 462, 6966, 18605, 4, 939, 33, 10, 2491, 438, 73, 3170, 417, 11044, 8, 1712, 89, 16, 117, 1528, 323, 11, 5, 299, 9, 42, 3235, 1437, 24, 3106, 5, 1972, 11, 8, 5, 1844, 15804, 16, 95, 5, 235, 1280, 9, 13350, 4, 5, 2576, 34, 6473, 1953, 1437, 2018, 95, 10, 410, 828, 9, 2]\t\"I had been searching for a swimsuit that flattered my baby bump and this is it - i'm in love! for reference  i am 5'6\"\" 170-180  10-12 or m-l depending on the item. however  i'm currently 19 weeks pregnant so im about 185 and growing - so i went with the xl swimsuit. i have a 36c/38d bust and although there is no true support in the top of this suit  it holds the girls in and the deep plunge is just the right amount of sexy. the bottom has modest coverage  showing just a little bit of cheek. i go\"\t2022-12-13T08:08:19Z\n"
     ]
    }
   ],
   "source": [
    "!head -n 5 ./balanced/sentiment-train/part-algo-1-womens_clothing_ecommerce_reviews.tsv"
   ]
  },
  {
   "cell_type": "code",
   "execution_count": 26,
   "metadata": {},
   "outputs": [
    {
     "name": "stdout",
     "output_type": "stream",
     "text": [
      "review_id\tsentiment\tlabel_id\tinput_ids\treview_body\tdate\n",
      "9225\t1\t2\t[0, 713, 3588, 16, 12058, 11, 621, 8, 182, 34203, 1437, 53, 939, 21, 3911, 23, 5, 2408, 8, 939, 303, 5, 3124, 31670, 1437, 941, 19, 5, 1893, 1242, 3543, 4617, 1437, 350, 3229, 8, 10, 828, 38279, 4, 939, 109, 33, 10, 2107, 47821, 11044, 1437, 98, 939, 437, 45, 686, 114, 14, 21, 5, 936, 1437, 53, 939, 348, 393, 56, 14, 936, 11, 143, 9, 5, 6215, 14442, 939, 348, 3584, 11, 5, 94, 367, 107, 4, 36, 463, 89, 58, 10, 319, 9, 106, 1592, 939, 1381, 15, 127, 1675, 4716, 1459, 650, 8, 14, 21, 5, 4577, 1836, 4, 2, 1, 1, 1, 1, 1, 1, 1, 1, 1, 1, 1, 1, 1, 1, 1, 1, 1, 1, 1, 1, 1, 1]\tThis dress is gorgeous in person and very flattering  but i was surprised at the weight and i found the armholes  especially with the picot edge detail  too tight and a bit irritating. i do have a 32 dd bust  so i'm not sure if that was the problem  but i've never had that problem in any of the retailer dresses i've purchased in the last few years. (and there were a lot of them.) i tried on my regular petite small and that was the correct size.\t2022-12-13T08:08:19Z\n",
      "8025\t1\t2\t[0, 16587, 42, 299, 1437, 5, 847, 16, 2579, 8, 16, 1122, 7, 5, 986, 65, 14, 21, 21288, 1437, 657, 1368, 859, 8089, 1437, 53, 51, 1415, 11522, 15, 127, 3024, 6328, 9574, 4, 1437, 39328, 16, 1528, 7, 1836, 1437, 939, 1381, 15, 5, 1675, 1836, 1437, 45, 4716, 1459, 1437, 8, 24, 21, 2051, 36, 4783, 4505, 321, 50, 132, 1437, 439, 19, 321, 25, 326, 267, 12724, 299, 16, 10, 4600, 19780, 2564, 1437, 132, 74, 28, 2233, 219, 322, 5, 22990, 233, 16, 10, 2579, 355, 6769, 2617, 1437, 5, 2968, 5526, 16, 3793, 2342, 28189, 4, 3195, 16, 10, 14140, 11311, 338, 1437, 19, 13504, 1437, 53, 5, 7353, 3195, 15158, 162, 66, 36, 118, 524, 2105, 322, 657, 24, 3680, 2]\tLove this top  the cut is nice and is similar to the previous one that was denim  love hte colors  but they looked awful on my skin tone unfortunately.  sizing is true to size  i tried on the regular size  not petite  and it was fine (my usual 0 or 2  went with 0 as tjhis top is a looser fit  2 would be boxy). the lace part is a nice added detial  the plaid is soft flannel. color is a salmon colr  with navy  but the dominant color washed me out (i am fair). love it otherwise!\t2022-12-13T08:08:19Z\n",
      "19125\t0\t1\t[0, 1620, 1433, 2801, 1437, 42, 3588, 1237, 182, 739, 4, 939, 2740, 14649, 1437, 8, 5, 650, 21, 5, 235, 1836, 13, 127, 5120, 1437, 53, 24, 21, 95, 45, 34203, 4, 939, 437, 30023, 14216, 1437, 8, 939, 303, 5, 10762, 7, 28, 739, 1437, 5, 5397, 10, 828, 350, 239, 1437, 8, 5, 1374, 847, 7, 16531, 127, 1955, 11, 10, 182, 29747, 24203, 169, 4, 939, 437, 195, 108, 306, 113, 1437, 9680, 12, 1173, 1437, 8, 2085, 114, 939, 58, 10, 367, 2697, 13026, 8, 10, 367, 4877, 26647, 1437, 24, 115, 348, 1006, 4, 939, 98, 770, 7, 657, 42, 1437, 142, 24, 18, 3793, 8, 3473, 8, 11962, 1437, 53, 124, 24, 1411, 4, 2, 1, 1, 1, 1, 1, 1]\t\"As previously mentioned  this dress runs very large. i ordered accordingly  and the small was the right size for my frame  but it was just not flattering. i'm pear shaped  and i found the shoulders to be large  the neck a bit too high  and the overall cut to hug my figure in a very unflattering way. i'm 5'4\"\"  140-ish  and maybe if i were a few pounds lighter and a few inches taller  it could've worked. i so wanted to love this  because it's soft and comfortable and cute  but back it goes.\"\t2022-12-13T08:08:19Z\n",
      "3730\t1\t2\t[0, 100, 524, 98, 4343, 19, 127, 2229, 4, 5, 80, 430, 1389, 9, 5, 3588, 16, 95, 1622, 1531, 8, 2216, 4, 5, 7391, 8150, 1437, 29861, 1928, 2440, 9215, 16, 10, 2579, 1606, 4, 5063, 5, 3588, 50, 9215, 2564, 350, 3229, 50, 350, 7082, 198, 127, 28762, 4, 939, 2740, 10, 650, 61, 10698, 162, 1969, 8, 11, 403, 24, 16, 7163, 1437, 939, 524, 195, 108, 406, 113, 1437, 21448, 1437, 8, 10, 2491, 102, 4, 1437, 1437, 114, 47, 33, 57, 2811, 42, 3588, 1437, 218, 75, 4646, 1437, 941, 23, 5, 4613, 1392, 425, 328, 2, 1, 1, 1, 1, 1, 1, 1, 1, 1, 1, 1, 1, 1, 1, 1, 1, 1, 1, 1, 1, 1, 1, 1, 1, 1, 1]\t\"I am so pleased with my purchase. the two different levels of the dress is just simply fun and unique. the attached matching  adjustable baby blue slip is a nice add. neither the dress or slip fit too tight or too loose around my torso. i ordered a small which fits me perfect and in case it is helpful  i am 5'7\"\"  133  and a 36a.   if you have been considering this dress  don't delay  especially at the wonderful sale price!\"\t2022-12-13T08:08:19Z\n"
     ]
    }
   ],
   "source": [
    "!head -n 5 ./balanced/sentiment-validation/part-algo-1-womens_clothing_ecommerce_reviews.tsv"
   ]
  },
  {
   "cell_type": "code",
   "execution_count": 27,
   "metadata": {},
   "outputs": [
    {
     "name": "stdout",
     "output_type": "stream",
     "text": [
      "review_id\tsentiment\tlabel_id\tinput_ids\treview_body\tdate\n",
      "5100\t1\t2\t[0, 100, 437, 855, 15, 5, 35603, 462, 13, 5, 97, 8089, 9, 42, 5500, 23204, 3588, 73, 24641, 636, 4, 939, 308, 5, 24251, 7232, 11, 1836, 475, 8, 24, 10698, 6683, 15, 162, 36, 245, 108, 246, 113, 2491, 16134, 43, 396, 15550, 99, 939, 236, 7, 7433, 4, 372, 13, 2608, 2, 1, 1, 1, 1, 1, 1, 1, 1, 1, 1, 1, 1, 1, 1, 1, 1, 1, 1, 1, 1, 1, 1, 1, 1, 1, 1, 1, 1, 1, 1, 1, 1, 1, 1, 1, 1, 1, 1, 1, 1, 1, 1, 1, 1, 1, 1, 1, 1, 1, 1, 1, 1, 1, 1, 1, 1, 1, 1, 1, 1, 1, 1, 1, 1, 1, 1, 1, 1, 1, 1, 1, 1, 1]\t\"I'm currently on the prowl for the other colors of this fantastic sweater dress/tunic. i own the lavender in size m and it fits perfectly on me (5'3\"\" 36dd) without enhancing what i want to hide. great for winter\"\t2022-12-13T08:08:19Z\n",
      "9704\t1\t2\t[0, 100, 794, 951, 1493, 2498, 42, 23204, 8, 56, 7, 465, 24, 328, 939, 437, 195, 108, 245, 113, 463, 16970, 23246, 8, 2740, 5, 650, 4, 5, 124, 9, 5, 23204, 2323, 10, 367, 4877, 1065, 127, 124, 12189, 4, 939, 348, 57, 2498, 24, 19, 10, 6013, 12213, 8, 24, 18, 57, 5, 1969, 23204, 13, 1136, 1650, 4, 939, 21, 3915, 5, 181, 261, 11156, 1683, 429, 146, 24, 543, 7, 3568, 42, 23204, 19, 10, 8443, 53, 24, 18, 888, 540, 35156, 87, 97, 22, 8726, 113, 24043, 11837, 939, 33, 4, 2, 1, 1, 1, 1, 1, 1, 1, 1, 1, 1, 1, 1, 1, 1, 1, 1, 1, 1, 1, 1, 1, 1, 1, 1, 1, 1, 1, 1, 1, 1]\t\"I saw someone else wearing this sweater and had to find it! i'm 5'5\"\"and 118 lbs and ordered the small. the back of the sweater hits a few inches above my back pockets. i've been wearing it with a tank underneath and it's been the perfect sweater for fall weather. i was worried the poncho effect might make it hard to wear this sweater with a jacket but it's actually less bulky than other \"\"real\"\" sweaters i have.\"\t2022-12-13T08:08:19Z\n",
      "5744\t0\t1\t[0, 29220, 4193, 8358, 14, 5, 1254, 218, 75, 4521, 89, 18, 10, 526, 23595, 4, 13, 3046, 1219, 1437, 939, 33, 5, 11111, 86, 12365, 88, 14442, 19, 526, 992, 7418, 8, 98, 939, 21, 26678, 14, 5, 1254, 224, 24, 18, 10, 2999, 12, 261, 2496, 77, 14, 18, 45, 5, 403, 4, 89, 18, 67, 117, 492, 11, 5, 13977, 4, 12035, 5, 2564, 45, 447, 13, 162, 1437, 24, 21, 10, 1256, 3588, 53, 1374, 10, 410, 350, 203, 164, 15, 4, 2, 1, 1, 1, 1, 1, 1, 1, 1, 1, 1, 1, 1, 1, 1, 1, 1, 1, 1, 1, 1, 1, 1, 1, 1, 1, 1, 1, 1, 1, 1, 1, 1, 1, 1, 1, 1, 1, 1, 1, 1, 1]\tFrustrated that the details don't mention there's a side zip. for whatever reason  i have the hardest time fitting into dresses with side zips and so i was annoyed that the details say it's a pull-on style when that's not the case. there's also no give in the waist. besides the fit not working for me  it was a pretty dress but overall a little too much going on.\t2022-12-13T08:08:19Z\n",
      "7149\t1\t2\t[0, 2847, 939, 2740, 258, 10070, 11, 42, 1437, 650, 8, 3023, 29, 4, 1437, 939, 437, 13950, 23246, 4, 8, 195, 113, 306, 8, 5, 3023, 29, 2564, 162, 4, 1437, 23, 78, 939, 938, 75, 686, 59, 42, 2125, 53, 71, 562, 24, 15, 24, 2012, 7, 1733, 15, 47, 4, 1437, 5, 299, 233, 9, 5, 16338, 10698, 269, 11962, 8, 5, 17539, 6806, 32, 182, 1810, 8, 64, 28, 251, 4, 1437, 939, 222, 120, 42, 23, 10, 372, 425, 98, 939, 437, 164, 7, 489, 24, 1437, 218, 75, 216, 141, 171, 498, 939, 40, 253, 62, 2498, 53, 802, 24, 74, 28, 269, 11962, 7, 3568, 66, 15, 1248, 363, 19, 127, 1623, 4, 2, 1, 1, 1, 1, 1, 1, 1]\t\"So i ordered both sizes in this  small and xs.  i'm 128 lbs. and 5\"\"4 and the xs fit me.  at first i wasn't sure about this piece but after getting it on it starts to grow on you.  the top part of the jumper fits really cute and the bottoms are very wide and can be long.  i did get this at a great price so i'm going to keep it  don't know how many times i will end up wearing but thought it would be really cute to wear out on date night with my husband.\"\t2022-12-13T08:08:19Z\n"
     ]
    }
   ],
   "source": [
    "!head -n 5 ./balanced/sentiment-test/part-algo-1-womens_clothing_ecommerce_reviews.tsv"
   ]
  },
  {
   "cell_type": "markdown",
   "metadata": {},
   "source": [
    "<a name='c2w1-3.'></a>\n",
    "# 3. Query the Feature Store\n",
    "In addition to transforming the data and saving in S3 bucket, the processing job populates the feature store with the transformed and balanced data.  Let's query this data using Amazon Athena."
   ]
  },
  {
   "cell_type": "markdown",
   "metadata": {},
   "source": [
    "<a name='c2w1-3.1.'></a>\n",
    "### 3.1. Export training, validation, and test datasets from the Feature Store\n",
    "\n",
    "Here you will do the export only for the training dataset, as an example. \n",
    "\n",
    "Use `athena_query()` function to create an Athena query for the defined above Feature Group. Then you can pull the table name of the Amazon Glue Data Catalog table which is auto-generated by Feature Store."
   ]
  },
  {
   "cell_type": "code",
   "execution_count": 28,
   "metadata": {},
   "outputs": [
    {
     "name": "stdout",
     "output_type": "stream",
     "text": [
      "Glue Catalog table name: reviews-feature-group-1670918430-1670918870\n",
      "Running query: \n",
      "    SELECT date,\n",
      "        review_id,\n",
      "        sentiment, \n",
      "        label_id,\n",
      "        input_ids,\n",
      "        review_body\n",
      "    FROM \"reviews-feature-group-1670918430-1670918870\" \n",
      "    WHERE split_type='train' \n",
      "    LIMIT 5\n",
      "\n"
     ]
    }
   ],
   "source": [
    "feature_store_query = feature_group.athena_query()\n",
    "\n",
    "feature_store_table = feature_store_query.table_name\n",
    "\n",
    "query_string = \"\"\"\n",
    "    SELECT date,\n",
    "        review_id,\n",
    "        sentiment, \n",
    "        label_id,\n",
    "        input_ids,\n",
    "        review_body\n",
    "    FROM \"{}\" \n",
    "    WHERE split_type='train' \n",
    "    LIMIT 5\n",
    "\"\"\".format(feature_store_table)\n",
    "\n",
    "print('Glue Catalog table name: {}'.format(feature_store_table))\n",
    "print('Running query: {}'.format(query_string))"
   ]
  },
  {
   "cell_type": "markdown",
   "metadata": {},
   "source": [
    "Configure the S3 location for the query results.  This allows us to re-use the query results for future queries if the data has not changed.  We can even share this S3 location between team members to improve query performance for common queries on data that does not change often."
   ]
  },
  {
   "cell_type": "code",
   "execution_count": 29,
   "metadata": {},
   "outputs": [
    {
     "name": "stdout",
     "output_type": "stream",
     "text": [
      "s3://sagemaker-us-east-1-672024296136/query_results/reviews-feature-store-1670918430/\n"
     ]
    }
   ],
   "source": [
    "output_s3_uri = 's3://{}/query_results/{}/'.format(bucket, feature_store_offline_prefix)\n",
    "print(output_s3_uri)"
   ]
  },
  {
   "cell_type": "markdown",
   "metadata": {},
   "source": [
    "<a name='c2w1-ex-4'></a>\n",
    "### Exercise 4\n",
    "\n",
    "Query the feature store.\n",
    "\n",
    "**Instructions**: Use `feature_store_query.run` function passing the constructed above query string and the location of the output S3 bucket.\n",
    "\n",
    "```python\n",
    "feature_store_query.run(\n",
    "    query_string=..., # query string\n",
    "    output_location=... # location of the output S3 bucket\n",
    ")\n",
    "```"
   ]
  },
  {
   "cell_type": "code",
   "execution_count": 30,
   "metadata": {},
   "outputs": [],
   "source": [
    "feature_store_query.run(\n",
    "    ### BEGIN SOLUTION - DO NOT delete this comment for grading purposes\n",
    "    query_string=query_string, # Replace None\n",
    "    output_location=output_s3_uri # Replace None\n",
    "    ### END SOLUTION - DO NOT delete this comment for grading purposes\n",
    ")\n",
    "\n",
    "feature_store_query.wait()"
   ]
  },
  {
   "cell_type": "code",
   "execution_count": 56,
   "metadata": {},
   "outputs": [
    {
     "data": {
      "text/html": [
       "<div>\n",
       "<style scoped>\n",
       "    .dataframe tbody tr th:only-of-type {\n",
       "        vertical-align: middle;\n",
       "    }\n",
       "\n",
       "    .dataframe tbody tr th {\n",
       "        vertical-align: top;\n",
       "    }\n",
       "\n",
       "    .dataframe thead th {\n",
       "        text-align: right;\n",
       "    }\n",
       "</style>\n",
       "<table border=\"1\" class=\"dataframe\">\n",
       "  <thead>\n",
       "    <tr style=\"text-align: right;\">\n",
       "      <th></th>\n",
       "      <th>date</th>\n",
       "      <th>review_id</th>\n",
       "      <th>sentiment</th>\n",
       "      <th>label_id</th>\n",
       "      <th>input_ids</th>\n",
       "      <th>review_body</th>\n",
       "    </tr>\n",
       "  </thead>\n",
       "  <tbody>\n",
       "    <tr>\n",
       "      <th>0</th>\n",
       "      <td>2022-12-13T08:08:19Z</td>\n",
       "      <td>6557</td>\n",
       "      <td>-1</td>\n",
       "      <td>0</td>\n",
       "      <td>[0, 713, 189, 28, 5, 1717, 571, 27911, 3588, 19, 5, 2373, 2564, 939, 33, 655, 1381, 4, 5, 2440, ...</td>\n",
       "      <td>This may be the ugliest dress with the worst fit i have ever tried. the blue stripes are brighte...</td>\n",
       "    </tr>\n",
       "    <tr>\n",
       "      <th>1</th>\n",
       "      <td>2022-12-13T08:08:19Z</td>\n",
       "      <td>180</td>\n",
       "      <td>1</td>\n",
       "      <td>2</td>\n",
       "      <td>[0, 100, 1381, 209, 15, 15, 10, 31754, 142, 939, 6640, 5, 6399, 14, 51, 58, 7899, 19, 11, 5, 140...</td>\n",
       "      <td>I tried these on on a whim because i liked the shirt that they were displayed with in the store ...</td>\n",
       "    </tr>\n",
       "    <tr>\n",
       "      <th>2</th>\n",
       "      <td>2022-12-13T08:08:19Z</td>\n",
       "      <td>11271</td>\n",
       "      <td>1</td>\n",
       "      <td>2</td>\n",
       "      <td>[0, 100, 657, 42, 3588, 98, 203, 14, 939, 2162, 24, 11, 132, 8089, 35, 65, 11, 2440, 8, 65, 11, ...</td>\n",
       "      <td>I love this dress so much that i bought it in 2 colors: one in blue and one in orange. great sty...</td>\n",
       "    </tr>\n",
       "    <tr>\n",
       "      <th>3</th>\n",
       "      <td>2022-12-13T08:08:19Z</td>\n",
       "      <td>12093</td>\n",
       "      <td>-1</td>\n",
       "      <td>0</td>\n",
       "      <td>[0, 2264, 16, 164, 15, 19, 475, 4791, 548, 39328, 42, 191, 116, 11, 5, 375, 80, 377, 1437, 939, ...</td>\n",
       "      <td>What is going on with maeve sizing this season? in the past two months  i've purchased two maeve...</td>\n",
       "    </tr>\n",
       "    <tr>\n",
       "      <th>4</th>\n",
       "      <td>2022-12-13T08:08:19Z</td>\n",
       "      <td>14133</td>\n",
       "      <td>1</td>\n",
       "      <td>2</td>\n",
       "      <td>[0, 713, 21, 10, 1924, 6215, 44371, 2162, 24, 19, 127, 4115, 6720, 4, 10, 828, 26428, 1437, 53, ...</td>\n",
       "      <td>This was a winner retailer!!!!! bought it with my birthday discount. a bit pricey  but when i wo...</td>\n",
       "    </tr>\n",
       "  </tbody>\n",
       "</table>\n",
       "</div>"
      ],
      "text/plain": [
       "                   date  review_id  sentiment  label_id  \\\n",
       "0  2022-12-13T08:08:19Z       6557         -1         0   \n",
       "1  2022-12-13T08:08:19Z        180          1         2   \n",
       "2  2022-12-13T08:08:19Z      11271          1         2   \n",
       "3  2022-12-13T08:08:19Z      12093         -1         0   \n",
       "4  2022-12-13T08:08:19Z      14133          1         2   \n",
       "\n",
       "                                                                                             input_ids  \\\n",
       "0  [0, 713, 189, 28, 5, 1717, 571, 27911, 3588, 19, 5, 2373, 2564, 939, 33, 655, 1381, 4, 5, 2440, ...   \n",
       "1  [0, 100, 1381, 209, 15, 15, 10, 31754, 142, 939, 6640, 5, 6399, 14, 51, 58, 7899, 19, 11, 5, 140...   \n",
       "2  [0, 100, 657, 42, 3588, 98, 203, 14, 939, 2162, 24, 11, 132, 8089, 35, 65, 11, 2440, 8, 65, 11, ...   \n",
       "3  [0, 2264, 16, 164, 15, 19, 475, 4791, 548, 39328, 42, 191, 116, 11, 5, 375, 80, 377, 1437, 939, ...   \n",
       "4  [0, 713, 21, 10, 1924, 6215, 44371, 2162, 24, 19, 127, 4115, 6720, 4, 10, 828, 26428, 1437, 53, ...   \n",
       "\n",
       "                                                                                           review_body  \n",
       "0  This may be the ugliest dress with the worst fit i have ever tried. the blue stripes are brighte...  \n",
       "1  I tried these on on a whim because i liked the shirt that they were displayed with in the store ...  \n",
       "2  I love this dress so much that i bought it in 2 colors: one in blue and one in orange. great sty...  \n",
       "3  What is going on with maeve sizing this season? in the past two months  i've purchased two maeve...  \n",
       "4  This was a winner retailer!!!!! bought it with my birthday discount. a bit pricey  but when i wo...  "
      ]
     },
     "execution_count": 56,
     "metadata": {},
     "output_type": "execute_result"
    }
   ],
   "source": [
    "import pandas as pd\n",
    "pd.set_option(\"max_colwidth\", 100)\n",
    "\n",
    "df_feature_store = feature_store_query.as_dataframe()\n",
    "df_feature_store"
   ]
  },
  {
   "cell_type": "markdown",
   "metadata": {},
   "source": [
    "Review the Feature Store in SageMaker Studio\n",
    "\n",
    "![](images/sm_studio_extensions_featurestore.png)"
   ]
  },
  {
   "cell_type": "markdown",
   "metadata": {},
   "source": [
    "<a name='c2w1-3.2.'></a>\n",
    "### 3.2. Export TSV from Feature Store"
   ]
  },
  {
   "cell_type": "markdown",
   "metadata": {},
   "source": [
    "Save the output as a TSV file:"
   ]
  },
  {
   "cell_type": "code",
   "execution_count": 32,
   "metadata": {},
   "outputs": [],
   "source": [
    "df_feature_store.to_csv('./feature_store_export.tsv',\n",
    "                        sep='\\t',\n",
    "                        index=False,\n",
    "                        header=True)"
   ]
  },
  {
   "cell_type": "code",
   "execution_count": 33,
   "metadata": {},
   "outputs": [
    {
     "name": "stdout",
     "output_type": "stream",
     "text": [
      "date\treview_id\tsentiment\tlabel_id\tinput_ids\treview_body\n",
      "2022-12-13T08:08:19Z\t6557\t-1\t0\t[0, 713, 189, 28, 5, 1717, 571, 27911, 3588, 19, 5, 2373, 2564, 939, 33, 655, 1381, 4, 5, 2440, 26224, 32, 19129, 87, 51, 2082, 11, 5, 1345, 1437, 3668, 15475, 1173, 4, 5, 299, 16, 3298, 4740, 19, 11522, 35036, 15, 5, 124, 3405, 1437, 24, 95, 1326, 6162, 4, 5, 16576, 16, 41, 20761, 11312, 783, 12808, 4, 1437, 1437, 1437, 939, 222, 45, 190, 236, 7, 860, 24, 15, 1437, 24, 18, 14, 1099, 4, 939, 1687, 1271, 10, 1345, 1437, 53, 21, 350, 27807, 4, 1437, 13, 5135, 1437, 939, 437, 195, 108, 698, 113, 1437, 2219, 5, 6958, 73, 1836, 9, 5, 1421, 1437, 53, 24, 21, 10941, 87, 5, 1345, 31089, 293, 4, 939, 770, 7, 101, 24, 1437, 2, 1]\t\"This may be the ugliest dress with the worst fit i have ever tried. the blue stripes are brighter than they appear in the photo  absolutely garish. the top is baggy with awful beads on the back ties  it just looks cheap. the skirt is an antebellum nightmare.    i did not even want to try it on  it's that bad. i considered adding a photo  but was too horrified.  for reference  i'm 5'10\"\"  approximately the height/ size of the model  but it was shorter than the photo depictes. i wanted to like it \"\n",
      "2022-12-13T08:08:19Z\t180\t1\t2\t[0, 100, 1381, 209, 15, 15, 10, 31754, 142, 939, 6640, 5, 6399, 14, 51, 58, 7899, 19, 11, 5, 1400, 8, 21, 3911, 141, 203, 939, 6640, 106, 328, 51, 32, 10, 372, 13026, 2408, 3626, 7, 5, 25172, 23324, 15671, 2457, 1855, 1696, 4, 372, 13, 2131, 360, 9, 1035, 4, 1437, 5, 12405, 12194, 26224, 213, 19, 960, 8, 244, 38889, 877, 5, 2985, 4, 1374, 10, 269, 34203, 847, 4, 5, 13977, 16, 45, 350, 614, 8, 473, 45, 1045, 30977, 179, 299, 4, 2, 1, 1, 1, 1, 1, 1, 1, 1, 1, 1, 1, 1, 1, 1, 1, 1, 1, 1, 1, 1, 1, 1, 1, 1, 1, 1, 1, 1, 1, 1, 1, 1, 1, 1, 1, 1, 1, 1, 1]\tI tried these on on a whim because i liked the shirt that they were displayed with in the store and was surprised how much i liked them! they are a great lighter weight alternative to the pilcro hyphen chino. great for hot days of summer.  the subtle vertical stripes go with everything and help elongate the leg. overall a really flattering cut. the waist is not too low and does not create muffin top.\n",
      "2022-12-13T08:08:19Z\t11271\t1\t2\t[0, 100, 657, 42, 3588, 98, 203, 14, 939, 2162, 24, 11, 132, 8089, 35, 65, 11, 2440, 8, 65, 11, 8978, 4, 372, 2496, 1437, 3473, 8, 1318, 1468, 4, 959, 1437, 5, 847, 16, 203, 1437, 203, 6635, 87, 24, 2092, 11, 5, 3493, 4, 390, 19, 11044, 197, 28, 13316, 9, 14, 4, 1437, 1437, 1437, 1437, 5, 2440, 16, 5, 357, 3195, 4, 5, 8978, 1326, 55, 101, 10, 38006, 1437, 1275, 12, 41964, 4, 202, 11962, 1437, 53, 45, 25, 35040, 21677, 25, 24, 2092, 11, 5, 18803, 4, 1437, 1437, 1437, 1437, 1374, 1437, 372, 3588, 4, 190, 357, 19, 5, 1392, 425, 4, 2, 1, 1, 1, 1, 1, 1, 1, 1, 1, 1, 1, 1, 1, 1, 1, 1, 1]\tI love this dress so much that i bought it in 2 colors: one in blue and one in orange. great style  comfortable and quality material. however  the cut is much  much deeper than it appears in the pictures. women with bust should be conscious of that.     the blue is the better color. the orange looks more like a fluorescent  red-orange. still cute  but not as subtly muted as it appears in the pics.     overall  great dress. even better with the sale price.\n",
      "2022-12-13T08:08:19Z\t12093\t-1\t0\t[0, 2264, 16, 164, 15, 19, 475, 4791, 548, 39328, 42, 191, 116, 11, 5, 375, 80, 377, 1437, 939, 348, 3584, 80, 475, 4791, 548, 14442, 14, 422, 182, 650, 5579, 32337, 23, 5, 13977, 4, 1437, 519, 171, 475, 4791, 548, 1964, 31, 375, 2516, 8, 97, 485, 6215, 5935, 1437, 24, 18, 4703, 7, 8861, 14, 475, 4791, 548, 18, 39328, 16, 1341, 160, 4, 14, 4364, 1437, 5, 11577, 1035, 8089, 8, 1468, 1318, 32, 372, 4, 5, 16576, 16, 9321, 53, 1087, 1722, 219, 8, 35682, 87, 5631, 4, 34374, 1437, 24, 18, 10, 319, 9, 3588, 648, 45, 615, 23, 5, 276, 86, 4, 89, 28072, 2463, 1368, 2, 1, 1, 1, 1, 1, 1, 1, 1, 1, 1, 1, 1, 1]\tWhat is going on with maeve sizing this season? in the past two months  i've purchased two maeve dresses that run very small--particularly at the waist.  having many maeve items from past seasons and other recent retailer purchases  it's impossible to ignore that maeve's sizing is quite off. that aside  the vibrant summer colors and material quality are great. the skirt is lined but billowy and fuller than ideal. strangely  it's a lot of dress yet not enough at the same time. there bodice h\n"
     ]
    }
   ],
   "source": [
    "!head -n 5 ./feature_store_export.tsv"
   ]
  },
  {
   "cell_type": "markdown",
   "metadata": {},
   "source": [
    "Upload TSV to the S3 bucket:"
   ]
  },
  {
   "cell_type": "code",
   "execution_count": 34,
   "metadata": {},
   "outputs": [
    {
     "name": "stdout",
     "output_type": "stream",
     "text": [
      "upload: ./feature_store_export.tsv to s3://sagemaker-us-east-1-672024296136/feature_store/feature_store_export.tsv\n"
     ]
    }
   ],
   "source": [
    "!aws s3 cp ./feature_store_export.tsv s3://$bucket/feature_store/feature_store_export.tsv"
   ]
  },
  {
   "cell_type": "markdown",
   "metadata": {},
   "source": [
    "Check the file in the S3 bucket:"
   ]
  },
  {
   "cell_type": "code",
   "execution_count": 35,
   "metadata": {},
   "outputs": [
    {
     "name": "stdout",
     "output_type": "stream",
     "text": [
      "2022-12-13 08:14:13       5541 feature_store/feature_store_export.tsv\n"
     ]
    }
   ],
   "source": [
    "!aws s3 ls --recursive s3://$bucket/feature_store/feature_store_export.tsv"
   ]
  },
  {
   "cell_type": "markdown",
   "metadata": {},
   "source": [
    "<a name='c2w1-3.3.'></a>\n",
    "### 3.3. Check that the dataset in the Feature Store is balanced by sentiment\n",
    "\n",
    "Now you can setup an Athena query to check that the stored dataset is balanced by the target class `sentiment`."
   ]
  },
  {
   "cell_type": "markdown",
   "metadata": {},
   "source": [
    "<a name='c2w1-ex-5'></a>\n",
    "### Exercise 5\n",
    "\n",
    "Write an SQL query to count the total number of the reviews per `sentiment` stored in the Feature Group.\n",
    "\n",
    "**Instructions**: Pass the SQL statement of the form \n",
    "\n",
    "```sql\n",
    "SELECT category_column, COUNT(*) AS new_column_name\n",
    "FROM table_name\n",
    "GROUP BY category_column\n",
    "```\n",
    "\n",
    "into the variable `query_string_count_by_sentiment`. Here you would need to use the column `sentiment` and give a name `count_reviews` to the new column with the counts."
   ]
  },
  {
   "cell_type": "code",
   "execution_count": 58,
   "metadata": {},
   "outputs": [],
   "source": [
    "feature_store_query_2 = feature_group.athena_query()\n",
    "\n",
    "# Replace all None\n",
    "### BEGIN SOLUTION - DO NOT delete this comment for grading purposes\n",
    "query_string_count_by_sentiment = \"\"\"\n",
    "SELECT sentiment, COUNT(*) AS count_reviews\n",
    "FROM \"{}\"\n",
    "GROUP BY sentiment\n",
    "\"\"\".format(feature_store_table)\n",
    "### END SOLUTION - DO NOT delete this comment for grading purposes"
   ]
  },
  {
   "cell_type": "markdown",
   "metadata": {},
   "source": [
    "<a name='c2w1-ex-6'></a>\n",
    "### Exercise 6\n",
    "\n",
    "Query the feature store.\n",
    "\n",
    "**Instructions**: Use `run` function of the Feature Store query, passing the new query string `query_string_count_by_sentiment`. The output S3 bucket will remain unchanged. You can follow the example above."
   ]
  },
  {
   "cell_type": "code",
   "execution_count": 59,
   "metadata": {},
   "outputs": [
    {
     "data": {
      "text/html": [
       "<div>\n",
       "<style scoped>\n",
       "    .dataframe tbody tr th:only-of-type {\n",
       "        vertical-align: middle;\n",
       "    }\n",
       "\n",
       "    .dataframe tbody tr th {\n",
       "        vertical-align: top;\n",
       "    }\n",
       "\n",
       "    .dataframe thead th {\n",
       "        text-align: right;\n",
       "    }\n",
       "</style>\n",
       "<table border=\"1\" class=\"dataframe\">\n",
       "  <thead>\n",
       "    <tr style=\"text-align: right;\">\n",
       "      <th></th>\n",
       "      <th>sentiment</th>\n",
       "      <th>count_reviews</th>\n",
       "    </tr>\n",
       "  </thead>\n",
       "  <tbody>\n",
       "    <tr>\n",
       "      <th>0</th>\n",
       "      <td>0</td>\n",
       "      <td>2051</td>\n",
       "    </tr>\n",
       "    <tr>\n",
       "      <th>1</th>\n",
       "      <td>1</td>\n",
       "      <td>2051</td>\n",
       "    </tr>\n",
       "    <tr>\n",
       "      <th>2</th>\n",
       "      <td>-1</td>\n",
       "      <td>2051</td>\n",
       "    </tr>\n",
       "  </tbody>\n",
       "</table>\n",
       "</div>"
      ],
      "text/plain": [
       "   sentiment  count_reviews\n",
       "0          0           2051\n",
       "1          1           2051\n",
       "2         -1           2051"
      ]
     },
     "execution_count": 59,
     "metadata": {},
     "output_type": "execute_result"
    }
   ],
   "source": [
    "feature_store_query_2.run(\n",
    "    ### BEGIN SOLUTION - DO NOT delete this comment for grading purposes\n",
    "    query_string=query_string_count_by_sentiment, # Replace None\n",
    "    output_location=output_s3_uri # Replace None\n",
    "    ### END SOLUTION - DO NOT delete this comment for grading purposes\n",
    ")\n",
    "\n",
    "feature_store_query_2.wait()\n",
    "\n",
    "df_count_by_sentiment = feature_store_query_2.as_dataframe()\n",
    "df_count_by_sentiment"
   ]
  },
  {
   "cell_type": "markdown",
   "metadata": {},
   "source": [
    "<a name='c2w1-ex-7'></a>\n",
    "### Exercise 7\n",
    "\n",
    "Visualize the result of the query in the bar plot, showing the count of the reviews by sentiment value.\n",
    "\n",
    "**Instructions**: Pass the resulting data frame `df_count_by_sentiment` into the `barplot` function of the `seaborn` library.\n",
    "\n",
    "```python\n",
    "sns.barplot(\n",
    "    data=..., \n",
    "    x='...', \n",
    "    y='...',\n",
    "    color=\"blue\"\n",
    ")\n",
    "```"
   ]
  },
  {
   "cell_type": "code",
   "execution_count": 60,
   "metadata": {},
   "outputs": [
    {
     "data": {
      "text/plain": [
       "<matplotlib.axes._subplots.AxesSubplot at 0x7fa623541b90>"
      ]
     },
     "execution_count": 60,
     "metadata": {},
     "output_type": "execute_result"
    }
   ],
   "source": [
    "import seaborn as sns\n",
    "\n",
    "sns.barplot(\n",
    "    ### BEGIN SOLUTION - DO NOT delete this comment for grading purposes\n",
    "    data=df_count_by_sentiment, # Replace None\n",
    "    x='sentiment', # Replace None\n",
    "    y='count_reviews', # Replace None\n",
    "    ### END SOLUTION - DO NOT delete this comment for grading purposes\n",
    "    color=\"blue\"\n",
    ")"
   ]
  },
  {
   "cell_type": "markdown",
   "metadata": {},
   "source": [
    "Upload the notebook and `prepare_data.py` file into S3 bucket for grading purposes.\n",
    "\n",
    "**Note**: you may need to save the file before the upload."
   ]
  },
  {
   "cell_type": "code",
   "execution_count": 61,
   "metadata": {},
   "outputs": [
    {
     "name": "stdout",
     "output_type": "stream",
     "text": [
      "upload: ./C2_W1_Assignment.ipynb to s3://sagemaker-us-east-1-672024296136/C2_W1_Assignment_Learner.ipynb\n",
      "upload: src/prepare_data.py to s3://sagemaker-us-east-1-672024296136/src/C2_W1_prepare_data_Learner.py\n"
     ]
    }
   ],
   "source": [
    "!aws s3 cp ./C2_W1_Assignment.ipynb s3://$bucket/C2_W1_Assignment_Learner.ipynb\n",
    "!aws s3 cp ./src/prepare_data.py s3://$bucket/src/C2_W1_prepare_data_Learner.py"
   ]
  },
  {
   "cell_type": "markdown",
   "metadata": {},
   "source": [
    "Please go to the main lab window and click on `Submit` button (see the `Finish the lab` section of the instructions)."
   ]
  },
  {
   "cell_type": "code",
   "execution_count": null,
   "metadata": {},
   "outputs": [],
   "source": []
  }
 ],
 "metadata": {
  "instance_type": "ml.t3.medium",
  "kernelspec": {
   "display_name": "Python 3 (Data Science)",
   "language": "python",
   "name": "python3__SAGEMAKER_INTERNAL__arn:aws:sagemaker:us-east-1:081325390199:image/datascience-1.0"
  },
  "language_info": {
   "codemirror_mode": {
    "name": "ipython",
    "version": 3
   },
   "file_extension": ".py",
   "mimetype": "text/x-python",
   "name": "python",
   "nbconvert_exporter": "python",
   "pygments_lexer": "ipython3",
   "version": "3.7.10"
  }
 },
 "nbformat": 4,
 "nbformat_minor": 4
}
